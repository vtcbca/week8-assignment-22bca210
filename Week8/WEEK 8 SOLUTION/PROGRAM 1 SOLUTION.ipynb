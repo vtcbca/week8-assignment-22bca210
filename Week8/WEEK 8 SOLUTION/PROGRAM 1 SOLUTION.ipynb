{
 "cells": [
  {
   "cell_type": "markdown",
   "id": "1c1a3634",
   "metadata": {},
   "source": [
    "# PROGRAM:1"
   ]
  },
  {
   "cell_type": "markdown",
   "id": "a2bef3d7",
   "metadata": {},
   "source": [
    "#### Create CSV File for Product Selling for 6 Months and add at-least 5 Records for 5 different products.\n",
    "(Prod_Name, Jan ,Feb, Mar, Apr , May, Jun)"
   ]
  },
  {
   "cell_type": "code",
   "execution_count": 12,
   "id": "b64e17f5",
   "metadata": {},
   "outputs": [],
   "source": [
    "import csv\n",
    "import matplotlib.pyplot as plt\n",
    "import pandas as pd"
   ]
  },
  {
   "cell_type": "code",
   "execution_count": 13,
   "id": "fbe59940",
   "metadata": {},
   "outputs": [],
   "source": [
    "A = [\n",
    "    [\"Prod_Name\", \"Jan\", \"Feb\", \"Mar\", \"Apr\", \"May\", \"Jun\"],\n",
    "    [\"Mobile\", 50, 67, 40, 55, 58, 75],\n",
    "    [\"Refrigerator\", 20, 29, 33, 50, 10, 40],\n",
    "    [\"AC\", 34, 27, 40, 17, 15, 10],\n",
    "    [\"Computer\", 18, 23, 32, 25, 26, 27],\n",
    "    [\"DIgital Camera\", 17, 20, 11, 15, 9, 11],\n",
    "]"
   ]
  },
  {
   "cell_type": "code",
   "execution_count": 14,
   "id": "cb60b150",
   "metadata": {},
   "outputs": [
    {
     "name": "stdout",
     "output_type": "stream",
     "text": [
      "CSV file 'product_sales.csv' has been created.\n"
     ]
    }
   ],
   "source": [
    "with open('C:\\\\sqlite3\\\\product_sales.csv', 'w', newline='') as file:\n",
    "    writer = csv.writer(file)\n",
    "    writer.writerows(A)\n",
    "\n",
    "print(\"CSV file 'product_sales.csv' has been created.\")"
   ]
  },
  {
   "cell_type": "code",
   "execution_count": 15,
   "id": "847ca7ef",
   "metadata": {},
   "outputs": [],
   "source": [
    "def read_csv_file(filename):\n",
    "    A = []\n",
    "    with open(filename, 'r') as file:\n",
    "        reader = csv.DictReader(file)\n",
    "        for row in reader:\n",
    "            A.append(row)\n",
    "        return A"
   ]
  },
  {
   "cell_type": "code",
   "execution_count": 16,
   "id": "6c557f20",
   "metadata": {},
   "outputs": [],
   "source": [
    "def calculate_total_sales(data, month):\n",
    "    total_sales = 0\n",
    "    for row in data:\n",
    "        total_sales += int(row[month])\n",
    "    return total_sales"
   ]
  },
  {
   "cell_type": "code",
   "execution_count": 17,
   "id": "b49ccc64",
   "metadata": {},
   "outputs": [],
   "source": [
    "def find_best_selling_product(data, month):\n",
    "    max_sales = 0\n",
    "    product = \"\"\n",
    "    for row in data:\n",
    "        if int(row[month]) > max_sales:\n",
    "            max_sales = int(row[month])\n",
    "            product = row[\"Prod_Name\"]\n",
    "    return product, max_sales"
   ]
  },
  {
   "cell_type": "markdown",
   "id": "232e6710",
   "metadata": {},
   "source": [
    "## Read the CSV file"
   ]
  },
  {
   "cell_type": "code",
   "execution_count": 18,
   "id": "9ed0e1a2",
   "metadata": {},
   "outputs": [],
   "source": [
    "filename = 'C:\\\\sqlite3\\\\product_sales.csv'\n",
    "A = read_csv_file(filename)"
   ]
  },
  {
   "cell_type": "markdown",
   "id": "55706822",
   "metadata": {},
   "source": [
    "### A.Read data in Dataframe."
   ]
  },
  {
   "cell_type": "code",
   "execution_count": 19,
   "id": "5f11d011",
   "metadata": {},
   "outputs": [
    {
     "data": {
      "text/html": [
       "<div>\n",
       "<style scoped>\n",
       "    .dataframe tbody tr th:only-of-type {\n",
       "        vertical-align: middle;\n",
       "    }\n",
       "\n",
       "    .dataframe tbody tr th {\n",
       "        vertical-align: top;\n",
       "    }\n",
       "\n",
       "    .dataframe thead th {\n",
       "        text-align: right;\n",
       "    }\n",
       "</style>\n",
       "<table border=\"1\" class=\"dataframe\">\n",
       "  <thead>\n",
       "    <tr style=\"text-align: right;\">\n",
       "      <th></th>\n",
       "      <th>Prod_Name</th>\n",
       "      <th>Jan</th>\n",
       "      <th>Feb</th>\n",
       "      <th>Mar</th>\n",
       "      <th>Apr</th>\n",
       "      <th>May</th>\n",
       "      <th>Jun</th>\n",
       "    </tr>\n",
       "  </thead>\n",
       "  <tbody>\n",
       "    <tr>\n",
       "      <th>0</th>\n",
       "      <td>Mobile</td>\n",
       "      <td>50</td>\n",
       "      <td>67</td>\n",
       "      <td>40</td>\n",
       "      <td>55</td>\n",
       "      <td>58</td>\n",
       "      <td>75</td>\n",
       "    </tr>\n",
       "    <tr>\n",
       "      <th>1</th>\n",
       "      <td>Refrigerator</td>\n",
       "      <td>20</td>\n",
       "      <td>29</td>\n",
       "      <td>33</td>\n",
       "      <td>50</td>\n",
       "      <td>10</td>\n",
       "      <td>40</td>\n",
       "    </tr>\n",
       "    <tr>\n",
       "      <th>2</th>\n",
       "      <td>AC</td>\n",
       "      <td>34</td>\n",
       "      <td>27</td>\n",
       "      <td>40</td>\n",
       "      <td>17</td>\n",
       "      <td>15</td>\n",
       "      <td>10</td>\n",
       "    </tr>\n",
       "    <tr>\n",
       "      <th>3</th>\n",
       "      <td>Computer</td>\n",
       "      <td>18</td>\n",
       "      <td>23</td>\n",
       "      <td>32</td>\n",
       "      <td>25</td>\n",
       "      <td>26</td>\n",
       "      <td>27</td>\n",
       "    </tr>\n",
       "    <tr>\n",
       "      <th>4</th>\n",
       "      <td>DIgital Camera</td>\n",
       "      <td>17</td>\n",
       "      <td>20</td>\n",
       "      <td>11</td>\n",
       "      <td>15</td>\n",
       "      <td>9</td>\n",
       "      <td>11</td>\n",
       "    </tr>\n",
       "  </tbody>\n",
       "</table>\n",
       "</div>"
      ],
      "text/plain": [
       "        Prod_Name  Jan  Feb  Mar  Apr  May  Jun\n",
       "0          Mobile   50   67   40   55   58   75\n",
       "1    Refrigerator   20   29   33   50   10   40\n",
       "2              AC   34   27   40   17   15   10\n",
       "3        Computer   18   23   32   25   26   27\n",
       "4  DIgital Camera   17   20   11   15    9   11"
      ]
     },
     "execution_count": 19,
     "metadata": {},
     "output_type": "execute_result"
    }
   ],
   "source": [
    "df = pd.read_csv('C:\\\\sqlite3\\\\product_sales.csv')\n",
    "df"
   ]
  },
  {
   "cell_type": "markdown",
   "id": "a67f2f58",
   "metadata": {},
   "source": [
    "### B.Add columns and calculate total_sell, average_sell."
   ]
  },
  {
   "cell_type": "code",
   "execution_count": 20,
   "id": "a073666c",
   "metadata": {},
   "outputs": [
    {
     "data": {
      "text/html": [
       "<div>\n",
       "<style scoped>\n",
       "    .dataframe tbody tr th:only-of-type {\n",
       "        vertical-align: middle;\n",
       "    }\n",
       "\n",
       "    .dataframe tbody tr th {\n",
       "        vertical-align: top;\n",
       "    }\n",
       "\n",
       "    .dataframe thead th {\n",
       "        text-align: right;\n",
       "    }\n",
       "</style>\n",
       "<table border=\"1\" class=\"dataframe\">\n",
       "  <thead>\n",
       "    <tr style=\"text-align: right;\">\n",
       "      <th></th>\n",
       "      <th>Prod_Name</th>\n",
       "      <th>Jan</th>\n",
       "      <th>Feb</th>\n",
       "      <th>Mar</th>\n",
       "      <th>Apr</th>\n",
       "      <th>May</th>\n",
       "      <th>Jun</th>\n",
       "      <th>total_sell</th>\n",
       "      <th>average_sell</th>\n",
       "    </tr>\n",
       "  </thead>\n",
       "  <tbody>\n",
       "    <tr>\n",
       "      <th>0</th>\n",
       "      <td>Mobile</td>\n",
       "      <td>50</td>\n",
       "      <td>67</td>\n",
       "      <td>40</td>\n",
       "      <td>55</td>\n",
       "      <td>58</td>\n",
       "      <td>75</td>\n",
       "      <td>345</td>\n",
       "      <td>98.571429</td>\n",
       "    </tr>\n",
       "    <tr>\n",
       "      <th>1</th>\n",
       "      <td>Refrigerator</td>\n",
       "      <td>20</td>\n",
       "      <td>29</td>\n",
       "      <td>33</td>\n",
       "      <td>50</td>\n",
       "      <td>10</td>\n",
       "      <td>40</td>\n",
       "      <td>182</td>\n",
       "      <td>52.000000</td>\n",
       "    </tr>\n",
       "    <tr>\n",
       "      <th>2</th>\n",
       "      <td>AC</td>\n",
       "      <td>34</td>\n",
       "      <td>27</td>\n",
       "      <td>40</td>\n",
       "      <td>17</td>\n",
       "      <td>15</td>\n",
       "      <td>10</td>\n",
       "      <td>143</td>\n",
       "      <td>40.857143</td>\n",
       "    </tr>\n",
       "    <tr>\n",
       "      <th>3</th>\n",
       "      <td>Computer</td>\n",
       "      <td>18</td>\n",
       "      <td>23</td>\n",
       "      <td>32</td>\n",
       "      <td>25</td>\n",
       "      <td>26</td>\n",
       "      <td>27</td>\n",
       "      <td>151</td>\n",
       "      <td>43.142857</td>\n",
       "    </tr>\n",
       "    <tr>\n",
       "      <th>4</th>\n",
       "      <td>DIgital Camera</td>\n",
       "      <td>17</td>\n",
       "      <td>20</td>\n",
       "      <td>11</td>\n",
       "      <td>15</td>\n",
       "      <td>9</td>\n",
       "      <td>11</td>\n",
       "      <td>83</td>\n",
       "      <td>23.714286</td>\n",
       "    </tr>\n",
       "  </tbody>\n",
       "</table>\n",
       "</div>"
      ],
      "text/plain": [
       "        Prod_Name  Jan  Feb  Mar  Apr  May  Jun  total_sell  average_sell\n",
       "0          Mobile   50   67   40   55   58   75         345     98.571429\n",
       "1    Refrigerator   20   29   33   50   10   40         182     52.000000\n",
       "2              AC   34   27   40   17   15   10         143     40.857143\n",
       "3        Computer   18   23   32   25   26   27         151     43.142857\n",
       "4  DIgital Camera   17   20   11   15    9   11          83     23.714286"
      ]
     },
     "execution_count": 20,
     "metadata": {},
     "output_type": "execute_result"
    }
   ],
   "source": [
    "df = pd.read_csv('C:\\\\sqlite3\\\\product_sales.csv')\n",
    "df['total_sell'] = df.sum(axis=1, numeric_only=True)\n",
    "df['average_sell'] = df.iloc[:, 1:].mean(axis=1)\n",
    "df"
   ]
  },
  {
   "cell_type": "markdown",
   "id": "087080f8",
   "metadata": {},
   "source": [
    "### C.Plot Total sell and average sell together on line chart with proper Legends, titles and lables.\n"
   ]
  },
  {
   "cell_type": "code",
   "execution_count": 22,
   "id": "3ba0e7be",
   "metadata": {},
   "outputs": [
    {
     "data": {
      "image/png": "[encoded data removed]",
      "text/plain": [
       "<Figure size 1000x600 with 1 Axes>"
      ]
     },
     "metadata": {},
     "output_type": "display_data"
    }
   ],
   "source": [
    "df = pd.read_csv('C:\\\\sqlite3\\\\product_sales.csv')\n",
    "df['total_sell'] = df.sum(axis=1, numeric_only=True)\n",
    "df['average_sell'] = df.iloc[:, 1:].mean(axis=1)\n",
    "plt.figure(figsize=(10, 6))  # Set the figure size\n",
    "plt.plot(df['Prod_Name'], df['total_sell'], label='Total Sell', marker='o')\n",
    "plt.plot(df['Prod_Name'], df['average_sell'], label='Average Sell', marker='o')\n",
    "plt.xlabel('Products')\n",
    "plt.ylabel('Sales')\n",
    "plt.title('Total Sell and Average Sell for Products')\n",
    "plt.xticks(rotation=45)\n",
    "plt.legend()\n",
    "plt.grid(True)\n",
    "plt.tight_layout()\n",
    "plt.show()"
   ]
  },
  {
   "cell_type": "markdown",
   "id": "6f9c5e2a",
   "metadata": {},
   "source": [
    "### D.Explain final dataframe to csv named sell_analysis.csv"
   ]
  },
  {
   "cell_type": "code",
   "execution_count": 23,
   "id": "29b8577b",
   "metadata": {},
   "outputs": [
    {
     "name": "stdout",
     "output_type": "stream",
     "text": [
      "DataFrame saved to 'sell_analysis.csv'\n"
     ]
    }
   ],
   "source": [
    "df = pd.read_csv('C:\\\\sqlite3\\\\product_sales.csv')\n",
    "df['total_sell'] = df.sum(axis=1, numeric_only=True)\n",
    "df['average_sell'] = df.iloc[:, 1:].mean(axis=1)\n",
    "df.to_csv('C:\\\\sqlite3\\\\sell_analysis.csv', index=False)\n",
    "print(\"DataFrame saved to 'sell_analysis.csv'\")"
   ]
  },
  {
   "cell_type": "code",
   "execution_count": null,
   "id": "f89b91ea",
   "metadata": {},
   "outputs": [],
   "source": []
  }
 ],
 "metadata": {
  "kernelspec": {
   "display_name": "Python 3 (ipykernel)",
   "language": "python",
   "name": "python3"
  },
  "language_info": {
   "codemirror_mode": {
    "name": "ipython",
    "version": 3
   },
   "file_extension": ".py",
   "mimetype": "text/x-python",
   "name": "python",
   "nbconvert_exporter": "python",
   "pygments_lexer": "ipython3",
   "version": "3.10.8"
  }
 },
 "nbformat": 4,
 "nbformat_minor": 5
}
